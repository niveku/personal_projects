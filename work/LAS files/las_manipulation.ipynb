{
 "cells": [
  {
   "cell_type": "code",
   "execution_count": 28,
   "id": "355dc729",
   "metadata": {},
   "outputs": [],
   "source": [
    "import pandas as pd\n",
    "import numpy as np\n",
    "import lasio"
   ]
  },
  {
   "cell_type": "code",
   "execution_count": 59,
   "id": "496ce967",
   "metadata": {},
   "outputs": [
    {
     "data": {
      "application/vnd.microsoft.datawrangler.viewer.v0+json": {
       "columns": [
        {
         "name": "index",
         "rawType": "int64",
         "type": "integer"
        },
        {
         "name": "DEPTH",
         "rawType": "float64",
         "type": "float"
        },
        {
         "name": "GR",
         "rawType": "int64",
         "type": "integer"
        },
        {
         "name": "K",
         "rawType": "float64",
         "type": "float"
        },
        {
         "name": "U",
         "rawType": "float64",
         "type": "float"
        },
        {
         "name": "TH",
         "rawType": "float64",
         "type": "float"
        }
       ],
       "conversionMethod": "pd.DataFrame",
       "ref": "d83936d3-e34b-48fd-8df2-e03414682ddf",
       "rows": [
        [
         "1",
         "3837.0",
         "3047",
         "1.697",
         "17.854",
         "62.429"
        ],
        [
         "2",
         "3837.1",
         "3343",
         "1.462",
         "17.727",
         "69.207"
        ],
        [
         "3",
         "3837.2",
         "3174",
         "1.618",
         "19.406",
         "61.814"
        ],
        [
         "4",
         "3837.3",
         "3127",
         "1.305",
         "16.692",
         "61.517"
        ],
        [
         "5",
         "3837.4",
         "3024",
         "1.393",
         "18.371",
         "55.971"
        ],
        [
         "6",
         "3837.5",
         "2852",
         "1.55",
         "17.465",
         "60.276"
        ],
        [
         "7",
         "3837.6",
         "2942",
         "1.442",
         "18.371",
         "59.661"
        ],
        [
         "8",
         "3837.7",
         "3000",
         "1.452",
         "18.759",
         "59.354"
        ],
        [
         "9",
         "3837.8",
         "3031",
         "1.461",
         "18.5",
         "63.044"
        ],
        [
         "10",
         "3837.9",
         "3007",
         "1.471",
         "21.347",
         "61.199"
        ],
        [
         "11",
         "3838.0",
         "2871",
         "1.442",
         "17.854",
         "67.042"
        ],
        [
         "12",
         "3838.1",
         "2988",
         "1.628",
         "17.983",
         "66.427"
        ],
        [
         "13",
         "3838.2",
         "2956",
         "1.501",
         "18.242",
         "55.971"
        ],
        [
         "14",
         "3838.3",
         "2921",
         "1.402",
         "18.242",
         "60.584"
        ],
        [
         "15",
         "3838.4",
         "2954",
         "1.736",
         "19.147",
         "60.584"
        ],
        [
         "16",
         "3838.5",
         "2773",
         "1.491",
         "15.137",
         "58.739"
        ],
        [
         "17",
         "3838.6",
         "2928",
         "1.461",
         "19.406",
         "71.04"
        ],
        [
         "18",
         "3838.7",
         "2829",
         "1.52",
         "18.759",
         "52.281"
        ],
        [
         "19",
         "3838.8",
         "2884",
         "1.363",
         "17.207",
         "63.352"
        ],
        [
         "20",
         "3838.9",
         "2853",
         "1.383",
         "16.819",
         "58.124"
        ],
        [
         "21",
         "3839.0",
         "2849",
         "1.422",
         "16.43",
         "66.427"
        ],
        [
         "22",
         "3839.1",
         "2933",
         "1.432",
         "18.63",
         "63.659"
        ],
        [
         "23",
         "3839.2",
         "3026",
         "1.53",
         "15.525",
         "66.427"
        ],
        [
         "24",
         "3839.3",
         "2976",
         "1.432",
         "18.112",
         "58.739"
        ],
        [
         "25",
         "3839.4",
         "3015",
         "1.383",
         "19.924",
         "55.971"
        ],
        [
         "26",
         "3839.5",
         "2903",
         "1.285",
         "19.406",
         "60.892"
        ],
        [
         "27",
         "3839.6",
         "2910",
         "1.667",
         "20.441",
         "61.199"
        ],
        [
         "28",
         "3839.7",
         "2906",
         "1.442",
         "17.983",
         "63.352"
        ],
        [
         "29",
         "3839.8",
         "2883",
         "1.53",
         "18.112",
         "54.126"
        ],
        [
         "30",
         "3839.9",
         "2958",
         "1.412",
         "20.7",
         "59.046"
        ],
        [
         "31",
         "3840.0",
         "2953",
         "1.501",
         "17.465",
         "54.433"
        ],
        [
         "32",
         "3840.1",
         "2819",
         "1.471",
         "18.5",
         "54.433"
        ],
        [
         "33",
         "3840.2",
         "2966",
         "1.491",
         "19.665",
         "58.739"
        ],
        [
         "34",
         "3840.3",
         "3064",
         "1.491",
         "20.57",
         "58.431"
        ],
        [
         "35",
         "3840.4",
         "3080",
         "1.589",
         "22.511",
         "55.048"
        ],
        [
         "36",
         "3840.5",
         "3092",
         "1.687",
         "17.207",
         "67.35"
        ],
        [
         "37",
         "3840.6",
         "3001",
         "1.736",
         "19.277",
         "59.969"
        ],
        [
         "38",
         "3840.7",
         "3065",
         "1.491",
         "21.735",
         "52.588"
        ],
        [
         "39",
         "3840.8",
         "3052",
         "1.51",
         "20.57",
         "57.201"
        ],
        [
         "40",
         "3840.9",
         "3015",
         "1.55",
         "18.892",
         "66.438"
        ],
        [
         "41",
         "3841.0",
         "3028",
         "1.393",
         "21.605",
         "55.663"
        ],
        [
         "42",
         "3841.1",
         "3045",
         "1.628",
         "20.053",
         "65.505"
        ],
        [
         "43",
         "3841.2",
         "3120",
         "1.52",
         "19.535",
         "61.814"
        ],
        [
         "44",
         "3841.3",
         "3127",
         "1.716",
         "18.889",
         "60.584"
        ],
        [
         "45",
         "3841.4",
         "3127",
         "1.52",
         "20.182",
         "62.429"
        ],
        [
         "46",
         "3841.5",
         "3084",
         "1.834",
         "22.899",
         "61.507"
        ],
        [
         "47",
         "3841.6",
         "3129",
         "1.413",
         "21.35",
         "69.822"
        ],
        [
         "48",
         "3841.7",
         "3172",
         "1.491",
         "20.57",
         "66.427"
        ],
        [
         "49",
         "3841.8",
         "3165",
         "1.344",
         "18.633",
         "63.67"
        ],
        [
         "50",
         "3841.9",
         "3231",
         "1.51",
         "22.77",
         "59.354"
        ]
       ],
       "shape": {
        "columns": 5,
        "rows": 1771
       }
      },
      "text/html": [
       "<div>\n",
       "<style scoped>\n",
       "    .dataframe tbody tr th:only-of-type {\n",
       "        vertical-align: middle;\n",
       "    }\n",
       "\n",
       "    .dataframe tbody tr th {\n",
       "        vertical-align: top;\n",
       "    }\n",
       "\n",
       "    .dataframe thead th {\n",
       "        text-align: right;\n",
       "    }\n",
       "</style>\n",
       "<table border=\"1\" class=\"dataframe\">\n",
       "  <thead>\n",
       "    <tr style=\"text-align: right;\">\n",
       "      <th></th>\n",
       "      <th>DEPTH</th>\n",
       "      <th>GR</th>\n",
       "      <th>K</th>\n",
       "      <th>U</th>\n",
       "      <th>TH</th>\n",
       "    </tr>\n",
       "  </thead>\n",
       "  <tbody>\n",
       "    <tr>\n",
       "      <th>1</th>\n",
       "      <td>3837.0</td>\n",
       "      <td>3047</td>\n",
       "      <td>1.697</td>\n",
       "      <td>17.854</td>\n",
       "      <td>62.429</td>\n",
       "    </tr>\n",
       "    <tr>\n",
       "      <th>2</th>\n",
       "      <td>3837.1</td>\n",
       "      <td>3343</td>\n",
       "      <td>1.462</td>\n",
       "      <td>17.727</td>\n",
       "      <td>69.207</td>\n",
       "    </tr>\n",
       "    <tr>\n",
       "      <th>3</th>\n",
       "      <td>3837.2</td>\n",
       "      <td>3174</td>\n",
       "      <td>1.618</td>\n",
       "      <td>19.406</td>\n",
       "      <td>61.814</td>\n",
       "    </tr>\n",
       "    <tr>\n",
       "      <th>4</th>\n",
       "      <td>3837.3</td>\n",
       "      <td>3127</td>\n",
       "      <td>1.305</td>\n",
       "      <td>16.692</td>\n",
       "      <td>61.517</td>\n",
       "    </tr>\n",
       "    <tr>\n",
       "      <th>5</th>\n",
       "      <td>3837.4</td>\n",
       "      <td>3024</td>\n",
       "      <td>1.393</td>\n",
       "      <td>18.371</td>\n",
       "      <td>55.971</td>\n",
       "    </tr>\n",
       "    <tr>\n",
       "      <th>...</th>\n",
       "      <td>...</td>\n",
       "      <td>...</td>\n",
       "      <td>...</td>\n",
       "      <td>...</td>\n",
       "      <td>...</td>\n",
       "    </tr>\n",
       "    <tr>\n",
       "      <th>1767</th>\n",
       "      <td>4016.3</td>\n",
       "      <td>3051</td>\n",
       "      <td>1.697</td>\n",
       "      <td>19.535</td>\n",
       "      <td>58.739</td>\n",
       "    </tr>\n",
       "    <tr>\n",
       "      <th>1768</th>\n",
       "      <td>4016.4</td>\n",
       "      <td>3283</td>\n",
       "      <td>1.491</td>\n",
       "      <td>21.088</td>\n",
       "      <td>57.816</td>\n",
       "    </tr>\n",
       "    <tr>\n",
       "      <th>1769</th>\n",
       "      <td>4016.5</td>\n",
       "      <td>3107</td>\n",
       "      <td>1.442</td>\n",
       "      <td>19.018</td>\n",
       "      <td>67.965</td>\n",
       "    </tr>\n",
       "    <tr>\n",
       "      <th>1770</th>\n",
       "      <td>4016.6</td>\n",
       "      <td>2945</td>\n",
       "      <td>1.530</td>\n",
       "      <td>21.735</td>\n",
       "      <td>64.274</td>\n",
       "    </tr>\n",
       "    <tr>\n",
       "      <th>1771</th>\n",
       "      <td>4016.7</td>\n",
       "      <td>2783</td>\n",
       "      <td>1.618</td>\n",
       "      <td>24.452</td>\n",
       "      <td>60.583</td>\n",
       "    </tr>\n",
       "  </tbody>\n",
       "</table>\n",
       "<p>1771 rows × 5 columns</p>\n",
       "</div>"
      ],
      "text/plain": [
       "       DEPTH    GR      K       U      TH\n",
       "1     3837.0  3047  1.697  17.854  62.429\n",
       "2     3837.1  3343  1.462  17.727  69.207\n",
       "3     3837.2  3174  1.618  19.406  61.814\n",
       "4     3837.3  3127  1.305  16.692  61.517\n",
       "5     3837.4  3024  1.393  18.371  55.971\n",
       "...      ...   ...    ...     ...     ...\n",
       "1767  4016.3  3051  1.697  19.535  58.739\n",
       "1768  4016.4  3283  1.491  21.088  57.816\n",
       "1769  4016.5  3107  1.442  19.018  67.965\n",
       "1770  4016.6  2945  1.530  21.735  64.274\n",
       "1771  4016.7  2783  1.618  24.452  60.583\n",
       "\n",
       "[1771 rows x 5 columns]"
      ]
     },
     "execution_count": 59,
     "metadata": {},
     "output_type": "execute_result"
    }
   ],
   "source": [
    "df = pd.read_excel(\"log.xlsx\")\n",
    "df.columns = df.columns.str.strip().str.upper()\n",
    "col_units = df.iloc[0].to_dict()\n",
    "df.drop(0, axis=0, inplace=True)\n",
    "df = df.apply(pd.to_numeric, errors='coerce')\n",
    "df"
   ]
  },
  {
   "cell_type": "code",
   "execution_count": 67,
   "id": "61131ce6",
   "metadata": {},
   "outputs": [
    {
     "name": "stdout",
     "output_type": "stream",
     "text": [
      "Archivo LAS guardado como: log.las\n"
     ]
    }
   ],
   "source": [
    "output_file = 'log.las'\n",
    "depth_name = 'DEPTH'\n",
    "las = lasio.LASFile()\n",
    "las.well['WELL'] = 'Volve 15_9-19A'\n",
    "las.well['NULL'] = -9999.25\n",
    "\n",
    "for column in df.columns:\n",
    "    unit = col_units.get(column, 'Unit')\n",
    "    mnemonic = column.replace('.', '')\n",
    "    unidad_limpia = unit.replace('.', '')\n",
    "    descripcion = column\n",
    "    curve = lasio.CurveItem(mnemonic=mnemonic, unit=unidad_limpia, value=np.array(df[column].values), descr=descripcion)\n",
    "    las.curves.append(curve)\n",
    "\n",
    "las.data = df.values.tolist()\n",
    "\n",
    "if depth_name in df.columns:\n",
    "    las.well['STRT'] = df[depth_name].min()\n",
    "    las.well['STOP'] = df[depth_name].max()\n",
    "    if len(df) > 1:\n",
    "        las.well['STEP'] = df[depth_name].iloc[1] - df[depth_name].iloc[0]\n",
    "\n",
    "data_array = df.values.tolist()\n",
    "las.data = data_array\n",
    "las.write(output_file, version=2.0)\n",
    "print(f\"Archivo LAS guardado como: {output_file}\")"
   ]
  },
  {
   "cell_type": "code",
   "execution_count": 68,
   "id": "96f5d84a",
   "metadata": {},
   "outputs": [
    {
     "name": "stdout",
     "output_type": "stream",
     "text": [
      "Archivo LAS leído correctamente por lasio:\n",
      "                                    GR   .C/MIN           [3047 3343 3174 ..  \\\n",
      "DEPTH.M   [3837.  3837.1 3837.2 ..                                             \n",
      "3837.0                                                                3047.0   \n",
      "3837.1                                                                3343.0   \n",
      "3837.2                                                                3174.0   \n",
      "3837.3                                                                3127.0   \n",
      "3837.4                                                                3024.0   \n",
      "...                                                                      ...   \n",
      "4016.3                                                                3051.0   \n",
      "4016.4                                                                3283.0   \n",
      "4016.5                                                                3107.0   \n",
      "4016.6                                                                2945.0   \n",
      "4016.7                                                                2783.0   \n",
      "\n",
      "                                    K    .%         [1.697 1.462 1.618 ..  \\\n",
      "DEPTH.M   [3837.  3837.1 3837.2 ..                                          \n",
      "3837.0                                                              1.697   \n",
      "3837.1                                                              1.462   \n",
      "3837.2                                                              1.618   \n",
      "3837.3                                                              1.305   \n",
      "3837.4                                                              1.393   \n",
      "...                                                                   ...   \n",
      "4016.3                                                              1.697   \n",
      "4016.4                                                              1.491   \n",
      "4016.5                                                              1.442   \n",
      "4016.6                                                              1.530   \n",
      "4016.7                                                              1.618   \n",
      "\n",
      "                                    U    .PPM [17.854 17.727 19.406 ..  \\\n",
      "DEPTH.M   [3837.  3837.1 3837.2 ..                                       \n",
      "3837.0                                                          17.854   \n",
      "3837.1                                                          17.727   \n",
      "3837.2                                                          19.406   \n",
      "3837.3                                                          16.692   \n",
      "3837.4                                                          18.371   \n",
      "...                                                                ...   \n",
      "4016.3                                                          19.535   \n",
      "4016.4                                                          21.088   \n",
      "4016.5                                                          19.018   \n",
      "4016.6                                                          21.735   \n",
      "4016.7                                                          24.452   \n",
      "\n",
      "                                    TH   .PPM [62.429 69.207 61.814 ..  \n",
      "DEPTH.M   [3837.  3837.1 3837.2 ..                                      \n",
      "3837.0                                                          62.429  \n",
      "3837.1                                                          69.207  \n",
      "3837.2                                                          61.814  \n",
      "3837.3                                                          61.517  \n",
      "3837.4                                                          55.971  \n",
      "...                                                                ...  \n",
      "4016.3                                                          58.739  \n",
      "4016.4                                                          57.816  \n",
      "4016.5                                                          67.965  \n",
      "4016.6                                                          64.274  \n",
      "4016.7                                                          60.583  \n",
      "\n",
      "[1771 rows x 4 columns]\n"
     ]
    }
   ],
   "source": [
    "try:\n",
    "    f = lasio.read('log.las')\n",
    "    print(\"Archivo LAS leído correctamente por lasio:\")\n",
    "    print(f.df())\n",
    "except Exception as e:\n",
    "    print(f\"Error al leer el archivo LAS con lasio: {e}\")"
   ]
  },
  {
   "cell_type": "code",
   "execution_count": null,
   "id": "ea519a6d",
   "metadata": {},
   "outputs": [],
   "source": []
  }
 ],
 "metadata": {
  "kernelspec": {
   "display_name": "Python 3",
   "language": "python",
   "name": "python3"
  },
  "language_info": {
   "codemirror_mode": {
    "name": "ipython",
    "version": 3
   },
   "file_extension": ".py",
   "mimetype": "text/x-python",
   "name": "python",
   "nbconvert_exporter": "python",
   "pygments_lexer": "ipython3",
   "version": "3.12.5"
  }
 },
 "nbformat": 4,
 "nbformat_minor": 5
}
