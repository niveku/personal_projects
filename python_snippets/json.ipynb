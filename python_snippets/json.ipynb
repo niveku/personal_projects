{
 "cells": [
  {
   "cell_type": "code",
   "execution_count": 7,
   "metadata": {},
   "outputs": [
    {
     "name": "stdout",
     "output_type": "stream",
     "text": [
      "{'level_1': {'level_2': {'level_3': {'list_number': [1, 2, 3, 4, 5], 'level_4': {'final_level': 'none'}}, 'number': 10, 'list': ['a', 'b', 'c']}}, 'parallel': 'not much'}\n"
     ]
    }
   ],
   "source": [
    "import json\n",
    "import pprint\n",
    "\n",
    "with open(\"test.json\", \"r\") as file:\n",
    "    data = json.load(file)\n",
    "\n",
    "print(data)\n"
   ]
  },
  {
   "cell_type": "code",
   "execution_count": 5,
   "metadata": {},
   "outputs": [
    {
     "name": "stdout",
     "output_type": "stream",
     "text": [
      "{'level_1': {'level_2': {'level_3': {'level_4': {'final_level': 'none'},\n",
      "                                     'list_number': [1,\n",
      "                                                     2,\n",
      "                                                     3,\n",
      "                                                     4,\n",
      "                                                     5]},\n",
      "                         'list': ['a',\n",
      "                                  'b',\n",
      "                                  'c'],\n",
      "                         'number': 10}},\n",
      " 'parallel': 'not '\n",
      "             'much'}\n"
     ]
    }
   ],
   "source": [
    "pprint.pprint(data, width=5)"
   ]
  }
 ],
 "metadata": {
  "kernelspec": {
   "display_name": "Python 3",
   "language": "python",
   "name": "python3"
  },
  "language_info": {
   "codemirror_mode": {
    "name": "ipython",
    "version": 3
   },
   "file_extension": ".py",
   "mimetype": "text/x-python",
   "name": "python",
   "nbconvert_exporter": "python",
   "pygments_lexer": "ipython3",
   "version": "3.12.5"
  }
 },
 "nbformat": 4,
 "nbformat_minor": 2
}
