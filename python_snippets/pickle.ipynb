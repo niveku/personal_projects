{
 "cells": [
  {
   "cell_type": "code",
   "execution_count": 1,
   "metadata": {},
   "outputs": [],
   "source": [
    "import pickle\n",
    "\n",
    "class House:\n",
    "    def __init__(self, zone, price) -> None:\n",
    "        self.zone = zone\n",
    "        self.price = price\n",
    "\n",
    "    def info(self):\n",
    "        print(f\"This house located at {self.zone} is worth {self.price}M$ COP\")\n",
    "\n",
    "house1 = House(\"Teusaquillo\", \"230\")"
   ]
  },
  {
   "cell_type": "code",
   "execution_count": 2,
   "metadata": {},
   "outputs": [
    {
     "name": "stdout",
     "output_type": "stream",
     "text": [
      "<__main__.House object at 0x000001EAFBD3E870>\n",
      "This house located at Teusaquillo is worth 230M$ COP\n"
     ]
    }
   ],
   "source": [
    "with open (\"pickle_data.pkl\", \"wb\") as f:\n",
    "    pickle.dump(house1, f)\n",
    "\n",
    "with open (\"pickle_data.pkl\", \"rb\") as f:\n",
    "    loaded_data = pickle.load(f)\n",
    "\n",
    "print(loaded_data)\n",
    "loaded_data.info()"
   ]
  }
 ],
 "metadata": {
  "kernelspec": {
   "display_name": "Python 3",
   "language": "python",
   "name": "python3"
  },
  "language_info": {
   "codemirror_mode": {
    "name": "ipython",
    "version": 3
   },
   "file_extension": ".py",
   "mimetype": "text/x-python",
   "name": "python",
   "nbconvert_exporter": "python",
   "pygments_lexer": "ipython3",
   "version": "3.12.5"
  }
 },
 "nbformat": 4,
 "nbformat_minor": 2
}
