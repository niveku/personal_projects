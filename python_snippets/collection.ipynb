{
 "cells": [
  {
   "cell_type": "code",
   "execution_count": 31,
   "metadata": {},
   "outputs": [
    {
     "data": {
      "text/plain": [
       "Counter({'cat': 3, 'dog': 2, 'bird': 1, 'shark': 1})"
      ]
     },
     "execution_count": 31,
     "metadata": {},
     "output_type": "execute_result"
    }
   ],
   "source": [
    "from collections import Counter, OrderedDict, defaultdict\n",
    "\n",
    "words = [\"dog\", \"cat\", \"cat\", \"bird\", \"shark\", \"cat\", \"dog\"]\n",
    "word_counter = Counter(words)\n",
    "\n",
    "word_counter"
   ]
  },
  {
   "cell_type": "code",
   "execution_count": 27,
   "metadata": {},
   "outputs": [
    {
     "name": "stdout",
     "output_type": "stream",
     "text": [
      "0\n"
     ]
    }
   ],
   "source": [
    "word_counter = defaultdict(int)\n",
    "print(word_counter[\"dog\"]) # Default 0 Instead of error"
   ]
  },
  {
   "cell_type": "code",
   "execution_count": 28,
   "metadata": {},
   "outputs": [
    {
     "name": "stdout",
     "output_type": "stream",
     "text": [
      "DeFaUlT\n"
     ]
    }
   ],
   "source": [
    "def default_func() -> str:\n",
    "    return \"DeFaUlT\"\n",
    "\n",
    "test_default_dict = defaultdict(default_func)\n",
    "print(test_default_dict[\"test\"]) # Default \"DeFaUlT\" Instead of error"
   ]
  },
  {
   "cell_type": "code",
   "execution_count": 29,
   "metadata": {},
   "outputs": [
    {
     "data": {
      "text/plain": [
       "defaultdict(int, {'dog': 2, 'cat': 3, 'bird': 1, 'shark': 1})"
      ]
     },
     "execution_count": 29,
     "metadata": {},
     "output_type": "execute_result"
    }
   ],
   "source": [
    "for word in words:\n",
    "    word_counter[word] += 1\n",
    "\n",
    "word_counter"
   ]
  },
  {
   "cell_type": "code",
   "execution_count": 35,
   "metadata": {},
   "outputs": [
    {
     "data": {
      "text/plain": [
       "OrderedDict([('Primero', 154846), ('Segundo', 12), ('Tercero', 15448846)])"
      ]
     },
     "execution_count": 35,
     "metadata": {},
     "output_type": "execute_result"
    }
   ],
   "source": [
    "#Guarda el orden de creacion\n",
    "sorted_dict = OrderedDict()\n",
    "sorted_dict[\"Primero\"] = 154846\n",
    "sorted_dict[\"Segundo\"] = 12\n",
    "sorted_dict[\"Tercero\"] = 15448846\n",
    "sorted_dict"
   ]
  },
  {
   "cell_type": "code",
   "execution_count": null,
   "metadata": {},
   "outputs": [],
   "source": []
  }
 ],
 "metadata": {
  "kernelspec": {
   "display_name": "Python 3",
   "language": "python",
   "name": "python3"
  },
  "language_info": {
   "codemirror_mode": {
    "name": "ipython",
    "version": 3
   },
   "file_extension": ".py",
   "mimetype": "text/x-python",
   "name": "python",
   "nbconvert_exporter": "python",
   "pygments_lexer": "ipython3",
   "version": "3.12.5"
  }
 },
 "nbformat": 4,
 "nbformat_minor": 2
}
